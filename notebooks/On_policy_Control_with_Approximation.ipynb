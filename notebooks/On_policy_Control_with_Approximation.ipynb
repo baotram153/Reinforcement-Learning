{
  "cells": [
    {
      "cell_type": "markdown",
      "metadata": {
        "id": "view-in-github",
        "colab_type": "text"
      },
      "source": [
        "<a href=\"https://colab.research.google.com/github/baotram153/Reinforcement-Learning/blob/main/notebooks/On_policy_Control_with_Approximation.ipynb\" target=\"_parent\"><img src=\"https://colab.research.google.com/assets/colab-badge.svg\" alt=\"Open In Colab\"/></a>"
      ]
    },
    {
      "cell_type": "markdown",
      "source": [
        "# ON POLICY CONTROL WITH APPROXIMATION"
      ],
      "metadata": {
        "id": "v_9_vLnn0Wtz"
      }
    },
    {
      "cell_type": "code",
      "execution_count": null,
      "metadata": {
        "colab": {
          "base_uri": "https://localhost:8080/"
        },
        "id": "E5HisI_tfjj7",
        "outputId": "ad58dc27-c592-408d-a0de-b30518d6f0e4"
      },
      "outputs": [
        {
          "output_type": "stream",
          "name": "stdout",
          "text": [
            "Collecting gymnasium\n",
            "  Downloading gymnasium-0.29.1-py3-none-any.whl (953 kB)\n",
            "\u001b[2K     \u001b[90m━━━━━━━━━━━━━━━━━━━━━━━━━━━━━━━━━━━━━━━━\u001b[0m \u001b[32m953.9/953.9 kB\u001b[0m \u001b[31m7.4 MB/s\u001b[0m eta \u001b[36m0:00:00\u001b[0m\n",
            "\u001b[?25hRequirement already satisfied: numpy>=1.21.0 in /usr/local/lib/python3.10/dist-packages (from gymnasium) (1.23.5)\n",
            "Requirement already satisfied: cloudpickle>=1.2.0 in /usr/local/lib/python3.10/dist-packages (from gymnasium) (2.2.1)\n",
            "Requirement already satisfied: typing-extensions>=4.3.0 in /usr/local/lib/python3.10/dist-packages (from gymnasium) (4.5.0)\n",
            "Collecting farama-notifications>=0.0.1 (from gymnasium)\n",
            "  Downloading Farama_Notifications-0.0.4-py3-none-any.whl (2.5 kB)\n",
            "Installing collected packages: farama-notifications, gymnasium\n",
            "Successfully installed farama-notifications-0.0.4 gymnasium-0.29.1\n"
          ]
        }
      ],
      "source": [
        "! pip install gymnasium"
      ]
    },
    {
      "cell_type": "code",
      "execution_count": null,
      "metadata": {
        "id": "wG78A_SdfFRZ"
      },
      "outputs": [],
      "source": [
        "from matplotlib import pyplot as plt\n",
        "import numpy as np\n",
        "import gymnasium as gym"
      ]
    },
    {
      "cell_type": "code",
      "execution_count": null,
      "metadata": {
        "id": "n6Wmzfrvfr4w"
      },
      "outputs": [],
      "source": [
        "class Utils:\n",
        "    def __init__(self):\n",
        "        pass\n",
        "    def exhaustive_zip(self,list1, list2):\n",
        "        result = [np.array([list1[i], list2[j]]) for i in range(len(list1)) for j in range(len(list2))]\n",
        "        return np.array(result)\n",
        "utils = Utils()"
      ]
    },
    {
      "cell_type": "markdown",
      "source": [
        "## 1. Mountain Car"
      ],
      "metadata": {
        "id": "Y00Yii2u0l6C"
      }
    },
    {
      "cell_type": "markdown",
      "source": [
        "### 1.1  Set up Environment, Agent and Value Function"
      ],
      "metadata": {
        "id": "gmUGOxR7sBBW"
      }
    },
    {
      "cell_type": "code",
      "source": [
        "env = gym.make('MountainCar-v0')\n",
        "done = False                            # check if the episode terminated\n",
        "observation, info = env.reset()         # initial [position, velocity]\n",
        "# print(observation)"
      ],
      "metadata": {
        "id": "VpySbKuhw2Qe"
      },
      "execution_count": null,
      "outputs": []
    },
    {
      "cell_type": "code",
      "source": [
        "\"\"\"\n",
        "Tile Coding Software version 3.0beta\n",
        "by Rich Sutton\n",
        "based on a program created by Steph Schaeffer and others\n",
        "External documentation and recommendations on the use of this code is available in the\n",
        "reinforcement learning textbook by Sutton and Barto, and on the web.\n",
        "These need to be understood before this code is.\n",
        "\"\"\"\n",
        "\n",
        "basehash = hash\n",
        "\n",
        "class IHT:\n",
        "    \"Structure to handle collisions\"\n",
        "    def __init__(self, sizeval):\n",
        "        self.size = sizeval\n",
        "        self.overfullCount = 0\n",
        "        self.dictionary = {}\n",
        "\n",
        "    def __str__(self):\n",
        "        \"Prepares a string for printing whenever this object is printed\"\n",
        "        return \"Collision table:\" + \\\n",
        "               \" size:\" + str(self.size) + \\\n",
        "               \" overfullCount:\" + str(self.overfullCount) + \\\n",
        "               \" dictionary:\" + str(len(self.dictionary)) + \" items\"\n",
        "\n",
        "    def count (self):\n",
        "        return len(self.dictionary)\n",
        "\n",
        "    def fullp (self):\n",
        "        return len(self.dictionary) >= self.size\n",
        "\n",
        "    def getindex (self, obj, readonly=False):\n",
        "        d = self.dictionary\n",
        "        if obj in d: return d[obj]\n",
        "        elif readonly: return None\n",
        "        size = self.size\n",
        "        count = self.count()\n",
        "        if count >= size:\n",
        "            if self.overfullCount==0: print('IHT full, starting to allow collisions')\n",
        "            self.overfullCount += 1\n",
        "            return basehash(obj) % self.size\n",
        "        else:\n",
        "            d[obj] = count\n",
        "            return count\n",
        "\n",
        "def hashcoords(coordinates, m, readonly=False):\n",
        "    if type(m)==IHT: return m.getindex(tuple(coordinates), readonly)\n",
        "    if type(m)==int: return basehash(tuple(coordinates)) % m\n",
        "    if m==None: return coordinates\n",
        "\n",
        "from math import floor, log\n",
        "from itertools import zip_longest\n",
        "\n",
        "def tiles (ihtORsize, numtilings, floats, ints=[], readonly=False):\n",
        "    \"\"\"returns num-tilings tile indices corresponding to the floats and ints\"\"\"\n",
        "    qfloats = [floor(f*numtilings) for f in floats]\n",
        "    Tiles = []\n",
        "    for tiling in range(numtilings):\n",
        "        tilingX2 = tiling*2\n",
        "        coords = [tiling]\n",
        "        b = tiling\n",
        "        for q in qfloats:\n",
        "            coords.append( (q + b) // numtilings )\n",
        "            b += tilingX2\n",
        "        coords.extend(ints)\n",
        "        Tiles.append(hashcoords(coords, ihtORsize, readonly))\n",
        "    return Tiles\n",
        "\n",
        "def tileswrap (ihtORsize, numtilings, floats, wrapwidths, ints=[], readonly=False):\n",
        "    \"\"\"returns num-tilings tile indices corresponding to the floats and ints, wrapping some floats\"\"\"\n",
        "    qfloats = [floor(f*numtilings) for f in floats]\n",
        "    Tiles = []\n",
        "    for tiling in range(numtilings):\n",
        "        tilingX2 = tiling*2\n",
        "        coords = [tiling]\n",
        "        b = tiling\n",
        "        for q, width in zip_longest(qfloats, wrapwidths):\n",
        "            c = (q + b%numtilings) // numtilings\n",
        "            coords.append(c%width if width else c)\n",
        "            b += tilingX2\n",
        "        coords.extend(ints)\n",
        "        Tiles.append(hashcoords(coords, ihtORsize, readonly))\n",
        "    return Tiles"
      ],
      "metadata": {
        "id": "SOt1syimrGZi"
      },
      "execution_count": null,
      "outputs": []
    },
    {
      "cell_type": "code",
      "source": [
        "class Tiling:           # tiling class implement following Sutton's tiles3\n",
        "    def __init__    (\n",
        "        self,\n",
        "        n_tilings,\n",
        "        n_tiles,\n",
        "        state_size,\n",
        "        max_size = 4096\n",
        "    ) -> None: # state_size = (x_size, y_size)\n",
        "\n",
        "        self.iht = IHT(max_size)\n",
        "        self.n_tilings = n_tilings\n",
        "        self.n_tiles = n_tiles\n",
        "        self.max_size = max_size\n",
        "        self.x_size, self.y_size = state_size\n",
        "        self.x_scale_factor = self.n_tiles / self.x_size\n",
        "        self.y_scale_factor = self.n_tiles / self.y_size\n",
        "        self.params = np.zeros(max_size)\n",
        "\n",
        "    def get_indices (self, state, action):\n",
        "        x, y = state\n",
        "        return tiles(self.iht, self.n_tilings, [x*self.x_scale_factor, y*self.y_scale_factor], [action])\n",
        "\n",
        "    def update      (self, state, action, delta, alpha):    # alpha belong to algorithm, delta is update amount\n",
        "        for index in self.get_indices(state, action):\n",
        "            self.params[index] += alpha*delta\n",
        "\n",
        "    def get_value   (self, state, action):\n",
        "        state_value = 0\n",
        "        for index in self.get_indices(state, action):\n",
        "            state_value += self.params[index]\n",
        "        return state_value"
      ],
      "metadata": {
        "id": "7jHz0T08rfzt"
      },
      "execution_count": null,
      "outputs": []
    },
    {
      "cell_type": "code",
      "source": [
        "class MountainCarAgent:\n",
        "    def __init__    (\n",
        "        self,\n",
        "        value_func,\n",
        "        alpha,\n",
        "        gamma,\n",
        "        epsilon\n",
        "    ) -> None:\n",
        "        self.alpha = alpha\n",
        "        self.gamma = gamma\n",
        "        self.value_func = value_func\n",
        "        self.epsilon = epsilon\n",
        "\n",
        "    def get_q_value (self, state, action):\n",
        "        q_value = self.value_func.get_value(state, action)\n",
        "        if (q_value):\n",
        "            return q_value\n",
        "        else:\n",
        "            return 0    # Nontype\n",
        "\n",
        "    def get_action  (self, state):     # 3 actions from 0->2 {accelerate to left, not accelerate, accelerate to right}\n",
        "        if (np.random.rand() < self.epsilon):\n",
        "            action = env.action_space.sample()\n",
        "        else:\n",
        "            action_values = []\n",
        "            for action in range(env.action_space.n):\n",
        "                action_values.append(self.get_q_value(state, action))\n",
        "            if (np.array(action_values).all() == 0): action = env.action_space.sample()\n",
        "            else:\n",
        "                action = np.argmax(action_values)\n",
        "        return action\n",
        "\n",
        "\n",
        "    def update(self, state, action,error, ):\n",
        "        self.value_func.update(state, action, error, self.alpha)"
      ],
      "metadata": {
        "id": "HpzgDvewrtmW"
      },
      "execution_count": null,
      "outputs": []
    },
    {
      "cell_type": "markdown",
      "source": [
        "### 1.2  Episodic semi gradient algorithm"
      ],
      "metadata": {
        "id": "QaZMErQusSam"
      }
    },
    {
      "cell_type": "code",
      "source": [
        "# episodic semi gradient\n",
        "def ep_semigrad_nsteps_Sarsa(n_eps, n_steps, alpha, gamma, epsilon):    # estimate value function of optimal policy\n",
        "    value_func = Tiling(8, 8, (0.6 + 1.2, 0.07 + 0.07))\n",
        "    agent = MountainCarAgent(value_func, alpha, gamma, epsilon)\n",
        "    y = []\n",
        "    for eps in range(n_eps):\n",
        "        first_state, info = env.reset()\n",
        "        states = [first_state]\n",
        "        actions = [agent.get_action(first_state)]\n",
        "        rewards = [0]\n",
        "        T = np.infty\n",
        "        t = 0\n",
        "        while True:\n",
        "            if (t < T):\n",
        "                new_state, reward, terminated, truncated, info = env.step(actions[-1])\n",
        "                states.append(new_state)\n",
        "                rewards.append(reward)\n",
        "                if (terminated):\n",
        "                    T = t + 1\n",
        "                else:\n",
        "                    actions.append(agent.get_action(new_state))\n",
        "            tau = t - n_steps + 1\n",
        "            if (tau >= 0):\n",
        "                end_bootstrap_timestep = min(T, tau + n_steps)\n",
        "                return_n = 0\n",
        "                for (i, idx) in enumerate (range(tau + 1, end_bootstrap_timestep + 1)):\n",
        "                    return_n += gamma**i*rewards[idx]\n",
        "                if (tau + n_steps < T):\n",
        "                    return_n += gamma**(n_steps - 1)*agent.get_q_value(states[end_bootstrap_timestep], actions[end_bootstrap_timestep])\n",
        "                error = return_n - agent.get_q_value(states[tau], actions[tau])\n",
        "                agent.update(states[tau], actions[tau], error)\n",
        "            if (tau == (T - 1)):\n",
        "                break\n",
        "            t += 1\n",
        "        # if (eps % (n_eps / 5) == 0):\n",
        "        #     print(f\"Episode {eps} step num: {T}\")\n",
        "        y.append(T)\n",
        "        # print(f\"Params {agent.value_func.params}\")\n",
        "    return y"
      ],
      "metadata": {
        "id": "mZmNe2X4r3Rf"
      },
      "execution_count": null,
      "outputs": []
    },
    {
      "cell_type": "code",
      "source": [
        "n_eps = 500\n",
        "y1 = []\n",
        "y2 = []\n",
        "\n",
        "for i in range(5):\n",
        "    y1.append(ep_semigrad_nsteps_Sarsa(n_eps, n_steps = 8, alpha = 0.3/8, gamma = 1, epsilon = 0))\n",
        "    y2.append(ep_semigrad_nsteps_Sarsa(n_eps, n_steps = 1, alpha = 0.5/8, gamma = 1, epsilon = 0))\n",
        "plt.plot(range(n_eps), np.array(y1).mean(axis = 0), color = 'purple')\n",
        "plt.plot(range(n_eps), np.array(y2).mean(axis = 0), color = 'red')\n",
        "plt.ylim(0, 1000)\n",
        "plt.xlabel(\"Number of episodes\")\n",
        "plt.ylabel(\"Number of steps\")\n",
        "plt.legend([\"n_steps = 8\", \"n_steps = 1\"])\n",
        "plt.show()"
      ],
      "metadata": {
        "colab": {
          "base_uri": "https://localhost:8080/",
          "height": 455
        },
        "id": "pWgv6eJlsg2p",
        "outputId": "25b782da-d8b9-4a3f-8686-6b547ec6a612"
      },
      "execution_count": null,
      "outputs": [
        {
          "output_type": "display_data",
          "data": {
            "text/plain": [
              "<Figure size 640x480 with 1 Axes>"
            ],
            "image/png": "[encoded data removed]"
          },
          "metadata": {}
        }
      ]
    },
    {
      "cell_type": "markdown",
      "source": [
        "## 2. Access Control Queuing Task"
      ],
      "metadata": {
        "id": "WFSFzAwZz1Zs"
      }
    },
    {
      "cell_type": "code",
      "execution_count": null,
      "metadata": {
        "id": "gu7hbfErfAy2"
      },
      "outputs": [],
      "source": [
        "# differential Semi-gradient Sarsa\n",
        "# solved as a Tabular method\n",
        "class ACQEnvironment:\n",
        "    # the queue is never empty and propability of priorities is uniformly distributed\n",
        "    def __init__(self, n_max_servers, priorities) -> None:\n",
        "        self.server_space = range(0, n_max_servers + 1)      # num of free servers\n",
        "        self.priority_space = priorities    # arr of priorities\n",
        "        self.action_space = [0, 1]\n",
        "        self.n_actions = 2\n",
        "        self.state_space = utils.exhaustive_zip(self.server_space, self.priority_space)\n",
        "        self.n_states = self.state_space.shape[0]\n",
        "\n",
        "        self.n_max_servers = n_max_servers\n",
        "        self.n_servers = n_max_servers\n",
        "        self.priority = np.random.choice(priorities)\n",
        "\n",
        "    def get_priority    (self):\n",
        "        return np.random.choice(self.priority_space)\n",
        "\n",
        "    def reset           (self):\n",
        "        self.n_servers = self.n_max_servers\n",
        "        self.priority = np.random.choice(self.priority_space)\n",
        "        return [self.n_servers, self.priority]\n",
        "\n",
        "    def free_servers    (self, prop):\n",
        "        for _ in range(self.n_max_servers - self.n_servers):\n",
        "            if (np.random.rand() < prop): self.n_servers += 1\n",
        "        self.n_servers = min (self.n_servers, self.n_max_servers)\n",
        "\n",
        "    def take_action     (self, action):\n",
        "        if (action == 1):\n",
        "            self.n_servers -= 1\n",
        "            reward = self.priority\n",
        "        else:\n",
        "            reward = 0\n",
        "        self.priority = np.random.choice(self.priority_space)\n",
        "        return [self.n_servers, self.priority], reward\n",
        "\n",
        "    def get_state       (self):\n",
        "        return [self.n_servers, self.priority]"
      ]
    },
    {
      "cell_type": "code",
      "execution_count": null,
      "metadata": {
        "id": "3ZCtypg1fPXT"
      },
      "outputs": [],
      "source": [
        "class ACQValueFunction:\n",
        "    def __init__    (self, state_space, action_space) -> None:\n",
        "        # self.state_dict = enumerate(state_space)\n",
        "        # print(list(self.state_dict))\n",
        "        self.state_space = state_space\n",
        "        self.n_states = len(state_space)\n",
        "        self.params = np.zeros((self.n_states, len(action_space)))\n",
        "\n",
        "    def get_value   (self, state, action):\n",
        "        # print(list(self.state_dict))\n",
        "        for idx, found_state in enumerate(self.state_space):\n",
        "            if (np.array(found_state) == np.array(state)).all():\n",
        "                return self.params[idx, action]\n",
        "\n",
        "    def update      (self, state, action, delta, alpha):\n",
        "        for idx, found_state in enumerate(self.state_space):\n",
        "            if (found_state == state).all():\n",
        "                self.params[idx, action] += alpha*delta"
      ]
    },
    {
      "cell_type": "code",
      "execution_count": null,
      "metadata": {
        "id": "AgBXFPXLfQAF"
      },
      "outputs": [],
      "source": [
        "class ACQAgent:\n",
        "    def __init__    (\n",
        "        self,\n",
        "        value_func,\n",
        "        alpha,\n",
        "        epsilon\n",
        "    ) -> None:\n",
        "        self.alpha = alpha\n",
        "        self.epsilon = epsilon\n",
        "        self.value_func = value_func\n",
        "        self.action_space = np.array([0, 1])          # reject / accept\n",
        "        self.n_actions = self.action_space.shape[0]\n",
        "\n",
        "    def get_q_value (self, state, action):\n",
        "        q_value = self.value_func.get_value(state, action)\n",
        "        if (q_value):\n",
        "            return q_value\n",
        "        else:\n",
        "            return 0    # Nontype\n",
        "\n",
        "    def get_action  (self, state):     # 3 actions from 0->2 {accelerate to left, not accelerate, accelerate to right}\n",
        "        if (state[0] == 0): return 0   # cannot accept if there's no free server left\n",
        "        if (np.random.rand() < self.epsilon):\n",
        "            action = np.random.choice(self.action_space)\n",
        "        else:\n",
        "            action_values = []\n",
        "            for action in range(self.n_actions):\n",
        "                action_values.append(self.get_q_value(state, action))\n",
        "            if (np.array(action_values).all() == 0): action = np.random.choice(self.action_space)\n",
        "            else:\n",
        "                action = np.argmax(action_values)\n",
        "        # print(f\"{state}, {action}\")\n",
        "        return action\n",
        "\n",
        "    def update(self, state, action, error):\n",
        "        self.value_func.update(state, action, error, self.alpha)\n",
        "\n",
        "    def get_greedy_action_vector (self, state_space):\n",
        "        actions = []\n",
        "        for state in state_space:\n",
        "            if (state[0] == 0):\n",
        "                actions.append(0)\n",
        "            else:\n",
        "                action_values = []\n",
        "                for action in range(self.n_actions):\n",
        "                    print(state, action)\n",
        "                    action_values.append(self.get_q_value(state, action))\n",
        "                if (np.array(action_values).all() == 0):\n",
        "                    actions.append(np.random.choice(self.action_space))\n",
        "                    print(\"random\")\n",
        "                else:\n",
        "                    actions.append(np.argmax(action_values))\n",
        "                    print(\"not random\")\n",
        "        return actions\n",
        "\n",
        "    def get_best_action_values (self, priority = 4, n_servers = 10):\n",
        "        diff_values = []\n",
        "        state_space = utils.exhaustive_zip(range(n_servers + 1), [priority])\n",
        "        for state in state_space:\n",
        "            if (state[0] == 0):\n",
        "                diff_values.append(self.get_q_value(state, 0))\n",
        "            else:\n",
        "                action_values = []\n",
        "                for action in range(self.n_actions):\n",
        "                    action_values.append(self.get_q_value(state, action))\n",
        "                if (np.array(action_values).all() == 0):\n",
        "                    diff_values.append(0)\n",
        "                else:\n",
        "                    diff_values.append(np.max(action_values))\n",
        "        return diff_values"
      ]
    },
    {
      "cell_type": "code",
      "execution_count": null,
      "metadata": {
        "id": "FisiKx96fSi8"
      },
      "outputs": [],
      "source": [
        "def diff_semi_gradient  (n_steps, alpha, beta, epsilon):\n",
        "    env = ACQEnvironment(10, [0, 1, 2, 4, 8])\n",
        "    value_func = ACQValueFunction(env.state_space, env.action_space)\n",
        "    agent = ACQAgent(value_func, alpha, epsilon)\n",
        "\n",
        "    avg_R = 0\n",
        "    old_state = env.reset()\n",
        "    old_action = agent.get_action(old_state)\n",
        "    for step in range(n_steps):\n",
        "        env.free_servers(prop = 0.06)\n",
        "        new_state, reward = env.take_action(old_action)\n",
        "        new_action = agent.get_action(new_state)\n",
        "        delta = reward - avg_R + agent.get_q_value(new_state, new_action) - agent.get_q_value(old_state, old_action)\n",
        "        avg_R += beta*delta\n",
        "        agent.update (old_state, old_action, delta)\n",
        "        old_state = new_state\n",
        "        old_action = new_action\n",
        "        if (step % (n_steps/10) == 0): print(f\"Number of steps {step} - Current average reward: {avg_R}\")\n",
        "    return env, agent"
      ]
    },
    {
      "cell_type": "code",
      "execution_count": null,
      "metadata": {
        "colab": {
          "base_uri": "https://localhost:8080/"
        },
        "id": "SiKqQYTgfUkY",
        "outputId": "183560fb-bb4d-4ef9-ff62-c79b86af31e5"
      },
      "outputs": [
        {
          "output_type": "stream",
          "name": "stdout",
          "text": [
            "Number of steps 0 - Current average reward: 0.0\n",
            "Number of steps 200000 - Current average reward: 2.2344663180078976\n",
            "Number of steps 400000 - Current average reward: 2.181588652444559\n",
            "Number of steps 600000 - Current average reward: 2.30011424547889\n",
            "Number of steps 800000 - Current average reward: 2.1560381476080837\n",
            "Number of steps 1000000 - Current average reward: 2.1872221144520534\n",
            "Number of steps 1200000 - Current average reward: 1.8551273812096833\n",
            "Number of steps 1400000 - Current average reward: 2.290408179259046\n",
            "Number of steps 1600000 - Current average reward: 2.3936225373062077\n",
            "Number of steps 1800000 - Current average reward: 2.5078999089428677\n"
          ]
        }
      ],
      "source": [
        "env, agent = diff_semi_gradient  (n_steps = 2*10**(6), alpha = 0.01, beta = 0.01, epsilon = 0.1)"
      ]
    },
    {
      "cell_type": "code",
      "execution_count": null,
      "metadata": {
        "colab": {
          "base_uri": "https://localhost:8080/",
          "height": 1000
        },
        "id": "Nk4pcEh1fbhk",
        "outputId": "e7ae6d9d-ef99-4c5e-f761-88221fd87ada"
      },
      "outputs": [
        {
          "output_type": "stream",
          "name": "stdout",
          "text": [
            "[1 0] 0\n",
            "[1 0] 1\n",
            "not random\n",
            "[1 1] 0\n",
            "[1 1] 1\n",
            "not random\n",
            "[1 2] 0\n",
            "[1 2] 1\n",
            "not random\n",
            "[1 4] 0\n",
            "[1 4] 1\n",
            "not random\n",
            "[1 8] 0\n",
            "[1 8] 1\n",
            "not random\n",
            "[2 0] 0\n",
            "[2 0] 1\n",
            "not random\n",
            "[2 1] 0\n",
            "[2 1] 1\n",
            "not random\n",
            "[2 2] 0\n",
            "[2 2] 1\n",
            "not random\n",
            "[2 4] 0\n",
            "[2 4] 1\n",
            "not random\n",
            "[2 8] 0\n",
            "[2 8] 1\n",
            "not random\n",
            "[3 0] 0\n",
            "[3 0] 1\n",
            "not random\n",
            "[3 1] 0\n",
            "[3 1] 1\n",
            "not random\n",
            "[3 2] 0\n",
            "[3 2] 1\n",
            "not random\n",
            "[3 4] 0\n",
            "[3 4] 1\n",
            "not random\n",
            "[3 8] 0\n",
            "[3 8] 1\n",
            "not random\n",
            "[4 0] 0\n",
            "[4 0] 1\n",
            "not random\n",
            "[4 1] 0\n",
            "[4 1] 1\n",
            "not random\n",
            "[4 2] 0\n",
            "[4 2] 1\n",
            "not random\n",
            "[4 4] 0\n",
            "[4 4] 1\n",
            "not random\n",
            "[4 8] 0\n",
            "[4 8] 1\n",
            "not random\n",
            "[5 0] 0\n",
            "[5 0] 1\n",
            "not random\n",
            "[5 1] 0\n",
            "[5 1] 1\n",
            "not random\n",
            "[5 2] 0\n",
            "[5 2] 1\n",
            "not random\n",
            "[5 4] 0\n",
            "[5 4] 1\n",
            "not random\n",
            "[5 8] 0\n",
            "[5 8] 1\n",
            "not random\n",
            "[6 0] 0\n",
            "[6 0] 1\n",
            "not random\n",
            "[6 1] 0\n",
            "[6 1] 1\n",
            "not random\n",
            "[6 2] 0\n",
            "[6 2] 1\n",
            "not random\n",
            "[6 4] 0\n",
            "[6 4] 1\n",
            "not random\n",
            "[6 8] 0\n",
            "[6 8] 1\n",
            "not random\n",
            "[7 0] 0\n",
            "[7 0] 1\n",
            "not random\n",
            "[7 1] 0\n",
            "[7 1] 1\n",
            "not random\n",
            "[7 2] 0\n",
            "[7 2] 1\n",
            "not random\n",
            "[7 4] 0\n",
            "[7 4] 1\n",
            "not random\n",
            "[7 8] 0\n",
            "[7 8] 1\n",
            "not random\n",
            "[8 0] 0\n",
            "[8 0] 1\n",
            "not random\n",
            "[8 1] 0\n",
            "[8 1] 1\n",
            "not random\n",
            "[8 2] 0\n",
            "[8 2] 1\n",
            "not random\n",
            "[8 4] 0\n",
            "[8 4] 1\n",
            "not random\n",
            "[8 8] 0\n",
            "[8 8] 1\n",
            "not random\n",
            "[9 0] 0\n",
            "[9 0] 1\n",
            "random\n",
            "[9 1] 0\n",
            "[9 1] 1\n",
            "not random\n",
            "[9 2] 0\n",
            "[9 2] 1\n",
            "not random\n",
            "[9 4] 0\n",
            "[9 4] 1\n",
            "random\n",
            "[9 8] 0\n",
            "[9 8] 1\n",
            "not random\n",
            "[10  0] 0\n",
            "[10  0] 1\n",
            "random\n",
            "[10  1] 0\n",
            "[10  1] 1\n",
            "random\n",
            "[10  2] 0\n",
            "[10  2] 1\n",
            "not random\n",
            "[10  4] 0\n",
            "[10  4] 1\n",
            "random\n",
            "[10  8] 0\n",
            "[10  8] 1\n",
            "random\n"
          ]
        },
        {
          "output_type": "execute_result",
          "data": {
            "text/plain": [
              "Text(50.722222222222214, 0.5, 'Priority')"
            ]
          },
          "metadata": {},
          "execution_count": 20
        },
        {
          "output_type": "display_data",
          "data": {
            "text/plain": [
              "<Figure size 640x480 with 2 Axes>"
            ],
            "image/png": "[encoded data removed]"
          },
          "metadata": {}
        }
      ],
      "source": [
        "import seaborn as sns\n",
        "\n",
        "policy = np.array(agent.get_greedy_action_vector(env.state_space))\n",
        "policy = np.transpose(policy.reshape(11,5))\n",
        "# print(policy)d\n",
        "\n",
        "fig = sns.heatmap(policy , cmap=\"crest\", xticklabels=range(11), yticklabels=[0, 1, 2, 4, 8])\n",
        "fig.set_xlabel('Number of free servers')\n",
        "fig.set_ylabel('Priority')\n"
      ]
    },
    {
      "cell_type": "code",
      "source": [
        "diff_values4 = agent.get_best_action_values(priority = 4)\n",
        "diff_values8 = agent.get_best_action_values(priority = 8)\n",
        "diff_values1 = agent.get_best_action_values(priority = 1)\n",
        "diff_values2 = agent.get_best_action_values(priority = 2)\n",
        "diff_values0 = agent.get_best_action_values(priority = 0)\n",
        "plt.plot(range(11), diff_values1, color = 'red')\n",
        "plt.plot(range(11), diff_values2, color = 'green')\n",
        "plt.plot(range(11), diff_values4, color = 'blue')\n",
        "plt.plot(range(11), diff_values8, color = 'black')\n",
        "plt.plot(range(11), diff_values0, color = 'purple')\n",
        "plt.xlabel(\"Number of free servers\")\n",
        "plt.ylabel(\"Differential values of best actions\")\n",
        "plt.legend([\"Priority = 1\", \"Priority = 2\", \"Priority = 4\", \"Priority = 8\", \"Priority = 0\"])\n",
        "plt.show()"
      ],
      "metadata": {
        "colab": {
          "base_uri": "https://localhost:8080/",
          "height": 449
        },
        "id": "QrXPi79hWD4q",
        "outputId": "57d27433-5007-467b-9ed4-4223e55d274b"
      },
      "execution_count": null,
      "outputs": [
        {
          "output_type": "display_data",
          "data": {
            "text/plain": [
              "<Figure size 640x480 with 1 Axes>"
            ],
            "image/png": "[encoded data removed]"
          },
          "metadata": {}
        }
      ]
    }
  ],
  "metadata": {
    "colab": {
      "provenance": [],
      "authorship_tag": "ABX9TyNXm0iePBeuvsh9d/gRhtXt",
      "include_colab_link": true
    },
    "kernelspec": {
      "display_name": "Python 3",
      "name": "python3"
    },
    "language_info": {
      "name": "python"
    }
  },
  "nbformat": 4,
  "nbformat_minor": 0
}