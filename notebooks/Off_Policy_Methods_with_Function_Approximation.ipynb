{
  "nbformat": 4,
  "nbformat_minor": 0,
  "metadata": {
    "colab": {
      "provenance": [],
      "authorship_tag": "ABX9TyMwVcncNuHSwyO1HDHQq1zh",
      "include_colab_link": true
    },
    "kernelspec": {
      "name": "python3",
      "display_name": "Python 3"
    },
    "language_info": {
      "name": "python"
    }
  },
  "cells": [
    {
      "cell_type": "markdown",
      "metadata": {
        "id": "view-in-github",
        "colab_type": "text"
      },
      "source": [
        "<a href=\"https://colab.research.google.com/github/baotram153/Reinforcement-Learning/blob/main/notebooks/Off_Policy_Methods_with_Function_Approximation.ipynb\" target=\"_parent\"><img src=\"https://colab.research.google.com/assets/colab-badge.svg\" alt=\"Open In Colab\"/></a>"
      ]
    },
    {
      "cell_type": "code",
      "execution_count": null,
      "metadata": {
        "id": "BQIJMtr3VYPw"
      },
      "outputs": [],
      "source": [
        "import numpy as np\n",
        "from matplotlib import pyplot as plt"
      ]
    },
    {
      "cell_type": "markdown",
      "source": [
        "## Bard's counter example"
      ],
      "metadata": {
        "id": "zThxyyVRXqos"
      }
    },
    {
      "cell_type": "code",
      "source": [
        "class BardEnvironment:  # zero reward for all transition\n",
        "    def __init__(self) -> None:\n",
        "        self.n_states = 7\n",
        "        self.state_space = np.arange(self.n_states)\n",
        "\n",
        "    def get_behavior_next_state(self):   # get action from behavior policy\n",
        "        return np.random.choice(self.state_space)\n",
        "\n",
        "    def get_target_next_state(self):\n",
        "        return 6\n",
        "\n",
        "    def get_importance_sampling (self, new_state):\n",
        "        if (new_state != 6): return 0\n",
        "        else: return 7  # pi / b"
      ],
      "metadata": {
        "id": "eV3Mmsm1Ygpv"
      },
      "execution_count": null,
      "outputs": []
    },
    {
      "cell_type": "code",
      "source": [
        "class BardValueFunction:\n",
        "    def __init__(self, alpha) -> None:  # 7 states: index 0 -> 6\n",
        "        self.alpha = alpha\n",
        "        self.params = np.array([1, 1, 1, 1, 1, 1, 10, 1])\n",
        "\n",
        "        # set up feature vector for each state\n",
        "        self.feature_vector = np.zeros((7,8))\n",
        "        for i in range (6):\n",
        "            self.feature_vector[i, 7] = 1\n",
        "            self.feature_vector[i, i] = 2\n",
        "        self.feature_vector[6, 7] = 2\n",
        "        self.feature_vector[6, 6] = 1\n",
        "\n",
        "    def get_state_value (self, state):\n",
        "        return np.dot(self.feature_vector[state], self.params)\n",
        "\n",
        "    def update (self, state, delta, importance_sampling):\n",
        "        self.params = self.params + self.alpha*importance_sampling*delta*self.feature_vector[state]"
      ],
      "metadata": {
        "id": "GIJclOtrYjd1"
      },
      "execution_count": null,
      "outputs": []
    },
    {
      "cell_type": "code",
      "source": [
        "class Graphing ():\n",
        "    def __init__(self) -> None:\n",
        "        self.n_params = 8\n",
        "        self.weights = [[] for _ in range(self.n_params)]\n",
        "\n",
        "    def store_weights (self, params):\n",
        "        for i in range (self.n_params):\n",
        "            # print(self.weights)\n",
        "            self.weights[i].append(params[i])\n",
        "\n",
        "    def plot_weights(self, n_steps):\n",
        "        for i in range(self.n_params):\n",
        "            plt.plot(np.arange(n_steps), self.weights[i])\n",
        "        plt.show()"
      ],
      "metadata": {
        "id": "CofpNp9HYp4q"
      },
      "execution_count": null,
      "outputs": []
    },
    {
      "cell_type": "markdown",
      "source": [
        "### Semi-gradient Off-policy TD(0)"
      ],
      "metadata": {
        "id": "QEqWbkWyYs71"
      }
    },
    {
      "cell_type": "code",
      "source": [
        "def semi_gradient_off_policy_TD (n_steps, alpha, gamma):\n",
        "    env = BardEnvironment()\n",
        "    value_func = BardValueFunction(alpha)\n",
        "    graph = Graphing()\n",
        "    old_state = env.get_behavior_next_state()\n",
        "    for step in range(n_steps):\n",
        "        new_state = env.get_behavior_next_state()\n",
        "        importance_sampling = env.get_importance_sampling(new_state)\n",
        "        delta = 0 + gamma*value_func.get_state_value(new_state) - value_func.get_state_value(old_state)\n",
        "        value_func.update(old_state, delta, importance_sampling)\n",
        "        old_state = new_state\n",
        "        graph.store_weights(value_func.params)\n",
        "    return graph"
      ],
      "metadata": {
        "id": "uARLa4O5Y5cn"
      },
      "execution_count": null,
      "outputs": []
    },
    {
      "cell_type": "code",
      "source": [
        "n_steps = 1000\n",
        "graph = semi_gradient_off_policy_TD(n_steps, alpha=0.01, gamma = 0.99)\n",
        "graph.plot_weights(n_steps)"
      ],
      "metadata": {
        "colab": {
          "base_uri": "https://localhost:8080/",
          "height": 430
        },
        "id": "tuKIw3k6ZGei",
        "outputId": "82dbf6c1-6246-487a-8795-03cf9a3d66a3"
      },
      "execution_count": null,
      "outputs": [
        {
          "output_type": "display_data",
          "data": {
            "text/plain": [
              "<Figure size 640x480 with 1 Axes>"
            ],
            "image/png": "[encoded data removed]"
          },
          "metadata": {}
        }
      ]
    },
    {
      "cell_type": "markdown",
      "source": [
        "### Semi-gradient Dynamic Programming"
      ],
      "metadata": {
        "id": "8xbJPH_gYxon"
      }
    },
    {
      "cell_type": "code",
      "source": [
        "def semi_gradient_DP (n_steps, alpha, gamma):\n",
        "    env = BardEnvironment()\n",
        "    value_func = BardValueFunction(alpha / env.n_states)    # set different lr\n",
        "    graph = Graphing()\n",
        "    for step in range(n_steps):\n",
        "        new_state = env.get_target_next_state()\n",
        "        target_value = value_func.get_state_value(new_state)\n",
        "        for state in env.state_space:\n",
        "            delta = 0 + gamma*target_value - value_func.get_state_value(state)\n",
        "            value_func.update(state, delta, 1)\n",
        "        graph.store_weights(value_func.params)\n",
        "    return graph"
      ],
      "metadata": {
        "id": "pr3M-11iY2bA"
      },
      "execution_count": null,
      "outputs": []
    },
    {
      "cell_type": "code",
      "source": [
        "n_steps = 1000\n",
        "graph = semi_gradient_DP(n_steps, alpha=0.01, gamma=0.99)\n",
        "graph.plot_weights(n_steps)"
      ],
      "metadata": {
        "colab": {
          "base_uri": "https://localhost:8080/",
          "height": 430
        },
        "id": "Zf9FogXxZISV",
        "outputId": "fe26f664-7d93-4ffd-c4b8-a3aebdd543b4"
      },
      "execution_count": null,
      "outputs": [
        {
          "output_type": "display_data",
          "data": {
            "text/plain": [
              "<Figure size 640x480 with 1 Axes>"
            ],
            "image/png": "[encoded data removed]"
          },
          "metadata": {}
        }
      ]
    },
    {
      "cell_type": "markdown",
      "source": [
        "## Learnability"
      ],
      "metadata": {
        "id": "3TUw_TjXZ0jX"
      }
    },
    {
      "cell_type": "markdown",
      "source": [
        "### Naive Residual Gradient"
      ],
      "metadata": {
        "id": "prayTGVAAgY6"
      }
    },
    {
      "cell_type": "markdown",
      "source": [
        "#### Algorithm"
      ],
      "metadata": {
        "id": "pObS85sMKj8u"
      }
    },
    {
      "cell_type": "code",
      "source": [
        "def naive_residual_gradient(n_eps, env, alpha, gamma = 1):\n",
        "    for ep in range(n_eps):\n",
        "        old_state = env.get_first_state()\n",
        "        while True:\n",
        "            new_state = env.get_new_state(old_state)\n",
        "            new_transition = old_state + new_state\n",
        "            reward = env.get_reward(new_transition)\n",
        "            delta = reward + gamma*env.get_state_value(new_state) - env.get_state_value(old_state)\n",
        "            env.update(new_transition, delta)\n",
        "            if (new_state == 'T'): break\n",
        "            old_state = new_state\n",
        "    return env.params"
      ],
      "metadata": {
        "id": "imxqx4l_BkBB"
      },
      "execution_count": null,
      "outputs": []
    },
    {
      "cell_type": "markdown",
      "source": [
        "#### A Split counterexample"
      ],
      "metadata": {
        "id": "ApLjxnV9AxpS"
      }
    },
    {
      "cell_type": "code",
      "source": [
        "class ASplit:\n",
        "    def __init__(self, alpha) -> None:\n",
        "        self.reward_dict = {'AB': 0, 'AC': 0, 'BT' : 1, 'CT' : 0}\n",
        "        self.transition_dict = {'A' : ['B','C'], 'B' : ['T'], 'C' : ['T']}\n",
        "        self.params = np.zeros(3)   # A = 0, B = 1, C = 2\n",
        "        self.alpha = alpha\n",
        "        self.feature_vector = [np.zeros(3) for _ in range(3)]\n",
        "        for i in range(3):\n",
        "            self.feature_vector[i][i] = 1\n",
        "\n",
        "    def get_first_state(self):\n",
        "        return 'A'\n",
        "\n",
        "    def get_new_state (self, state):\n",
        "        return np.random.choice(self.transition_dict[state])\n",
        "\n",
        "    def get_reward (self, transition):\n",
        "        return self.reward_dict[transition]\n",
        "\n",
        "    def update (self, transition, delta):\n",
        "        if (transition[1] == 'T'):\n",
        "            grad_delta = self.feature_vector[ord(transition[0]) - ord('A')]\n",
        "        else:\n",
        "            grad_delta = self.feature_vector[ord(transition[0]) - ord('A')] - self.feature_vector[ord(transition[1]) - ord('A')]\n",
        "        self.params += self.alpha*delta*grad_delta\n",
        "\n",
        "    def get_state_value (self, state):\n",
        "        if (state == 'A'): return self.params[0]\n",
        "        elif (state == 'B'): return self.params[1]\n",
        "        elif (state == 'C'): return self.params[2]\n",
        "        else: return 0"
      ],
      "metadata": {
        "id": "Ftqrs2cGAigl"
      },
      "execution_count": null,
      "outputs": []
    },
    {
      "cell_type": "code",
      "source": [
        "alpha = 10**(-3)\n",
        "env = ASplit(alpha)\n",
        "state_values = naive_residual_gradient(n_eps=50000, env=env, alpha=alpha)\n",
        "print(state_values)"
      ],
      "metadata": {
        "colab": {
          "base_uri": "https://localhost:8080/"
        },
        "id": "prgCUhohBmec",
        "outputId": "1f629d49-83db-4857-b710-6e0d1f39ebea"
      },
      "execution_count": null,
      "outputs": [
        {
          "output_type": "stream",
          "name": "stdout",
          "text": [
            "[0.50369185 0.75283911 0.25267073]\n"
          ]
        }
      ]
    },
    {
      "cell_type": "markdown",
      "source": [
        "### Residual Gradient"
      ],
      "metadata": {
        "id": "k8otYlqeKy4F"
      }
    },
    {
      "cell_type": "markdown",
      "source": [
        "#### Algorithm"
      ],
      "metadata": {
        "id": "RebHxMrkKuWn"
      }
    },
    {
      "cell_type": "code",
      "source": [
        "def residual_gradient(n_eps, env, alpha, gamma = 1):\n",
        "    for ep in range(n_eps):\n",
        "        old_state = env.get_first_state()\n",
        "        while True:\n",
        "            new_state1 = env.get_new_state(old_state)\n",
        "            new_state2 = env.get_new_state(old_state)\n",
        "            new_transition1 = old_state + new_state1\n",
        "            new_transition2 = old_state + new_state2\n",
        "            reward = env.get_reward(new_transition1)\n",
        "            delta = reward + gamma*env.get_state_value(new_state1) - env.get_state_value(old_state)\n",
        "            env.update(new_transition2, delta)\n",
        "            if (new_state1 == 'T'): break\n",
        "            old_state = new_state1\n",
        "    return env.params"
      ],
      "metadata": {
        "id": "Mw1bfWEXBobD"
      },
      "execution_count": null,
      "outputs": []
    },
    {
      "cell_type": "markdown",
      "source": [
        "#### A Pre-split counterexample"
      ],
      "metadata": {
        "id": "ZmgfgKqjA1Xa"
      }
    },
    {
      "cell_type": "code",
      "source": [
        "class APresplit:\n",
        "    def __init__(self, alpha) -> None:\n",
        "        self.reward_dict = {'AB': 0, 'aC': 0, 'BT' : 1, 'CT' : 0}\n",
        "        self.transition_dict = {'A' : ['B'], 'a' : ['C'], 'B' : ['T'], 'C' : ['T']}\n",
        "        self.params = np.zeros(3)   # A = 0, B = 1, C = 2\n",
        "        self.alpha = alpha\n",
        "        self.feature_vector = [np.zeros(3) for _ in range(3)]\n",
        "        for i in range(3):\n",
        "            self.feature_vector[i][i] = 1\n",
        "    def state_to_idx (self, state):\n",
        "        if (state == 'A' or state == 'a'): return 0\n",
        "        if (state == 'B'): return 1\n",
        "        if (state == 'C'): return 2\n",
        "\n",
        "    def get_first_state(self):\n",
        "        return np.random.choice(['A', 'a'])\n",
        "\n",
        "    def get_new_state (self, state):\n",
        "        return np.random.choice(self.transition_dict[state])\n",
        "\n",
        "    def get_reward (self, transition):\n",
        "        return self.reward_dict[transition]\n",
        "\n",
        "    def update (self, transition, delta):\n",
        "        grad_delta = np.zeros(3)\n",
        "        grad_delta[self.state_to_idx(transition[0])] = 1\n",
        "        if (transition[1] != 'T'): grad_delta[self.state_to_idx(transition[1])] = -1\n",
        "        self.params += self.alpha*delta*grad_delta\n",
        "\n",
        "    def get_state_value (self, state):\n",
        "        if (state == 'T'): return 0\n",
        "        else:\n",
        "            idx = self.state_to_idx(state)\n",
        "        return self.params[idx]"
      ],
      "metadata": {
        "id": "m3iBpQQ1AVfW"
      },
      "execution_count": null,
      "outputs": []
    },
    {
      "cell_type": "code",
      "source": [
        "env = ASplit(alpha)\n",
        "state_values = residual_gradient(n_eps = 50000, env = env, alpha = alpha)\n",
        "print(state_values)"
      ],
      "metadata": {
        "colab": {
          "base_uri": "https://localhost:8080/"
        },
        "id": "WguoNNpIDfJM",
        "outputId": "03c854dd-538e-4b43-ea27-063c776ca0a2"
      },
      "execution_count": null,
      "outputs": [
        {
          "output_type": "stream",
          "name": "stdout",
          "text": [
            "[0.48311083 0.99896863 0.0143925 ]\n"
          ]
        }
      ]
    },
    {
      "cell_type": "code",
      "source": [
        "env = APresplit(alpha)\n",
        "state_values = residual_gradient(n_eps=50000, env=env, alpha= alpha)\n",
        "print(state_values)"
      ],
      "metadata": {
        "colab": {
          "base_uri": "https://localhost:8080/"
        },
        "id": "7Y4qxrceBr7X",
        "outputId": "2cd11b9d-c746-40a2-b0ae-6b346cb454c7"
      },
      "execution_count": null,
      "outputs": [
        {
          "output_type": "stream",
          "name": "stdout",
          "text": [
            "[0.51258502 0.75513207 0.25491846]\n"
          ]
        }
      ]
    },
    {
      "cell_type": "markdown",
      "source": [
        "### $\\overline {VE}$ is not learnable but the optimal $w$ is learnable"
      ],
      "metadata": {
        "id": "vSLzphFyLB9K"
      }
    },
    {
      "cell_type": "markdown",
      "source": [
        "### $\\overline{BE}$ and the optimal $w$ of ${BE}$ is not learnable"
      ],
      "metadata": {
        "id": "rvDUAWVTLMuI"
      }
    },
    {
      "cell_type": "code",
      "source": [
        "class BEMDP:\n",
        "    def get_new_state (self, state):\n",
        "        return np.random.choice(self.transition_dict[state])\n",
        "\n",
        "    def get_reward (self, transition):\n",
        "        return self.reward_dict[transition]\n",
        "\n",
        "    def update (self, transition, delta):\n",
        "        grad_delta = self.feature_vectors[self.state_to_idx(transition[0])] - self.feature_vectors[self.state_to_idx(transition[1])]\n",
        "        self.params += self.alpha*delta*grad_delta\n",
        "\n",
        "    def get_state_value (self, state):\n",
        "        return self.params[self.state_to_idx(state)]"
      ],
      "metadata": {
        "id": "IGhwHwT1C-1_"
      },
      "execution_count": null,
      "outputs": []
    },
    {
      "cell_type": "code",
      "source": [
        "class BEMDP1    (BEMDP):\n",
        "    def __init__(self, alpha) -> None:\n",
        "        self.reward_dict = {'AB': 0, 'BA': 1, 'BB' : -1}\n",
        "        self.transition_dict = {'A' : ['B'], 'B' : ['A', 'B']}\n",
        "        self.params = np.zeros(2)   # A = 0, B = 1, C = 2\n",
        "        self.alpha = alpha\n",
        "        self.feature_vectors = [np.zeros(2) for _ in range(2)]\n",
        "        self.feature_vectors[0][0] = 1\n",
        "        self.feature_vectors[1][1] = 1\n",
        "\n",
        "    def state_to_idx (self, state):\n",
        "        if (state == 'A'): return 0\n",
        "        if (state == 'B'): return 1\n",
        "\n",
        "    def get_first_state(self):\n",
        "        return np.random.choice(['A', 'B'])"
      ],
      "metadata": {
        "id": "Pw4Xu6yjCfqD"
      },
      "execution_count": null,
      "outputs": []
    },
    {
      "cell_type": "code",
      "source": [
        "class BEMDP2    (BEMDP):\n",
        "    def __init__(self, alpha) -> None:\n",
        "        self.reward_dict = {'AB': 0, 'Ab': 0, 'BA' : 1, 'bB' : -1, 'bb' : -1}\n",
        "        self.transition_dict = {'A' : ['B', 'b'], 'B' : ['A'], 'b' : ['B', 'b']}\n",
        "        self.params = np.zeros(2)   # A = 0, B = 1, C = 2\n",
        "        self.alpha = alpha\n",
        "        self.feature_vectors = [np.zeros(2) for _ in range(2)]\n",
        "        self.feature_vectors[0][0] = 1\n",
        "        self.feature_vectors[1][1] = 1\n",
        "\n",
        "    def state_to_idx (self, state):\n",
        "        if (state == 'A'): return 0\n",
        "        if (state == 'B' or state == 'b'): return 1\n",
        "\n",
        "    def get_first_state(self):\n",
        "        return np.random.choice(['A', 'B', 'b'])"
      ],
      "metadata": {
        "id": "sZz5zIqa3C3z"
      },
      "execution_count": null,
      "outputs": []
    },
    {
      "cell_type": "code",
      "source": [
        "def continuous_residual_gradient(n_steps, env, gamma = 1):\n",
        "    old_state = env.get_first_state()\n",
        "    for step in range(n_steps):\n",
        "        new_state1 = env.get_new_state(old_state)\n",
        "        new_state2 = env.get_new_state(old_state)\n",
        "        new_transition1 = old_state + new_state1\n",
        "        new_transition2 = old_state + new_state2\n",
        "        reward = env.get_reward(new_transition1)\n",
        "        delta = reward + gamma*env.get_state_value(new_state1) - env.get_state_value(old_state)\n",
        "        env.update(new_transition2, delta)\n",
        "        old_state = new_state1\n",
        "    return env.params"
      ],
      "metadata": {
        "id": "D5c0GzvTDTu_"
      },
      "execution_count": null,
      "outputs": []
    },
    {
      "cell_type": "code",
      "source": [
        "env = BEMDP1(alpha=10**(-3))\n",
        "state_values = continuous_residual_gradient(n_steps= 10000, env=env, gamma = 1)\n",
        "print(state_values)"
      ],
      "metadata": {
        "colab": {
          "base_uri": "https://localhost:8080/"
        },
        "id": "qFVZwsvwDWjL",
        "outputId": "4ff93a1e-827d-4f32-8e00-88accb7c704c"
      },
      "execution_count": null,
      "outputs": [
        {
          "output_type": "stream",
          "name": "stdout",
          "text": [
            "[ 0.00402927 -0.00402927]\n"
          ]
        }
      ]
    },
    {
      "cell_type": "code",
      "source": [
        "env = BEMDP2(alpha=10**(-3))\n",
        "state_values = continuous_residual_gradient(n_steps= 10000, env=env, gamma = 1)\n",
        "print(state_values)"
      ],
      "metadata": {
        "colab": {
          "base_uri": "https://localhost:8080/"
        },
        "id": "fXYp-rPhDqrl",
        "outputId": "db9e0813-f6e7-4512-efd2-e68fd86dfdd5"
      },
      "execution_count": null,
      "outputs": [
        {
          "output_type": "stream",
          "name": "stdout",
          "text": [
            "[-0.24974937  0.24974937]\n"
          ]
        }
      ]
    }
  ]
}